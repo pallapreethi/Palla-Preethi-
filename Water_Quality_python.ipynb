{
  "nbformat": 4,
  "nbformat_minor": 0,
  "metadata": {
    "colab": {
      "name": "Water Quality.python",
      "provenance": [],
      "mount_file_id": "1uBv378P-3ma9R4ncLPtC5zz8s8S6-WX-",
      "authorship_tag": "ABX9TyMfUNP55XUsJ6aDlwtZ4/cx",
      "include_colab_link": true
    },
    "kernelspec": {
      "display_name": "Python 3",
      "name": "python3"
    },
    "language_info": {
      "name": "python"
    }
  },
  "cells": [
    {
      "cell_type": "markdown",
      "metadata": {
        "id": "view-in-github",
        "colab_type": "text"
      },
      "source": [
        "<a href=\"https://colab.research.google.com/github/pallapreethi/Palla-Preethi-/blob/master/Water_Quality_python.ipynb\" target=\"_parent\"><img src=\"https://colab.research.google.com/assets/colab-badge.svg\" alt=\"Open In Colab\"/></a>"
      ]
    },
    {
      "cell_type": "code",
      "metadata": {
        "id": "evB-YSVmdrFB"
      },
      "source": [
        "from google.colab import files"
      ],
      "execution_count": 19,
      "outputs": []
    },
    {
      "cell_type": "code",
      "metadata": {
        "id": "dkvPjwwUDmRz",
        "colab": {
          "base_uri": "https://localhost:8080/"
        },
        "outputId": "be095369-bb23-4300-eac6-d5a636ba8d29"
      },
      "source": [
        "from google.colab import drive\n",
        "drive.mount('/content/drive')"
      ],
      "execution_count": 20,
      "outputs": [
        {
          "output_type": "stream",
          "name": "stdout",
          "text": [
            "Drive already mounted at /content/drive; to attempt to forcibly remount, call drive.mount(\"/content/drive\", force_remount=True).\n"
          ]
        }
      ]
    },
    {
      "cell_type": "code",
      "metadata": {
        "id": "lBZfCC1ZVYi5"
      },
      "source": [
        "import pandas as pd"
      ],
      "execution_count": 21,
      "outputs": []
    },
    {
      "cell_type": "code",
      "metadata": {
        "id": "4Bwy_h5Kwx2b"
      },
      "source": [
        "data= pd.read_csv('/content/drive/MyDrive/Csv /Untitled spreadsheet(csv).csv')"
      ],
      "execution_count": 22,
      "outputs": []
    },
    {
      "cell_type": "code",
      "metadata": {
        "id": "d7yLx54QyXmb",
        "colab": {
          "base_uri": "https://localhost:8080/",
          "height": 206
        },
        "outputId": "54b4d4d9-161c-4d0d-acac-c4f62119eb7c"
      },
      "source": [
        "data.head()"
      ],
      "execution_count": 23,
      "outputs": [
        {
          "output_type": "execute_result",
          "data": {
            "text/html": [
              "<div>\n",
              "<style scoped>\n",
              "    .dataframe tbody tr th:only-of-type {\n",
              "        vertical-align: middle;\n",
              "    }\n",
              "\n",
              "    .dataframe tbody tr th {\n",
              "        vertical-align: top;\n",
              "    }\n",
              "\n",
              "    .dataframe thead th {\n",
              "        text-align: right;\n",
              "    }\n",
              "</style>\n",
              "<table border=\"1\" class=\"dataframe\">\n",
              "  <thead>\n",
              "    <tr style=\"text-align: right;\">\n",
              "      <th></th>\n",
              "      <th>LAT-DEG</th>\n",
              "      <th>LONG-DEG</th>\n",
              "      <th>UNION</th>\n",
              "      <th>Depth</th>\n",
              "      <th>HCO3</th>\n",
              "      <th>Ca</th>\n",
              "      <th>CL</th>\n",
              "      <th>F</th>\n",
              "      <th>K</th>\n",
              "      <th>Mg</th>\n",
              "      <th>No3</th>\n",
              "      <th>PH</th>\n",
              "      <th>So4</th>\n",
              "      <th>Asll</th>\n",
              "    </tr>\n",
              "  </thead>\n",
              "  <tbody>\n",
              "    <tr>\n",
              "      <th>0</th>\n",
              "      <td>23.6147</td>\n",
              "      <td>89.8553</td>\n",
              "      <td>Bayyaram</td>\n",
              "      <td>24.4</td>\n",
              "      <td>471</td>\n",
              "      <td>127.0</td>\n",
              "      <td>27.6</td>\n",
              "      <td>0.2</td>\n",
              "      <td>4.5</td>\n",
              "      <td>27.8</td>\n",
              "      <td>0.2</td>\n",
              "      <td>6.84</td>\n",
              "      <td>13.5</td>\n",
              "      <td>7</td>\n",
              "    </tr>\n",
              "    <tr>\n",
              "      <th>1</th>\n",
              "      <td>23.6075</td>\n",
              "      <td>89.8633</td>\n",
              "      <td>Garla</td>\n",
              "      <td>27.4</td>\n",
              "      <td>580</td>\n",
              "      <td>142.0</td>\n",
              "      <td>9.3</td>\n",
              "      <td>0.4</td>\n",
              "      <td>3.9</td>\n",
              "      <td>29.6</td>\n",
              "      <td>0.2</td>\n",
              "      <td>7.17</td>\n",
              "      <td>0.2</td>\n",
              "      <td>990</td>\n",
              "    </tr>\n",
              "    <tr>\n",
              "      <th>2</th>\n",
              "      <td>23.6031</td>\n",
              "      <td>89.8272</td>\n",
              "      <td>Mahabubabad</td>\n",
              "      <td>36.6</td>\n",
              "      <td>529</td>\n",
              "      <td>116.0</td>\n",
              "      <td>33.9</td>\n",
              "      <td>0.2</td>\n",
              "      <td>3.9</td>\n",
              "      <td>32.5</td>\n",
              "      <td>0.2</td>\n",
              "      <td>7.00</td>\n",
              "      <td>8.2</td>\n",
              "      <td>27</td>\n",
              "    </tr>\n",
              "    <tr>\n",
              "      <th>3</th>\n",
              "      <td>23.6064</td>\n",
              "      <td>89.8444</td>\n",
              "      <td>Parkal</td>\n",
              "      <td>18.9</td>\n",
              "      <td>568</td>\n",
              "      <td>116.0</td>\n",
              "      <td>16.5</td>\n",
              "      <td>0.1</td>\n",
              "      <td>6.2</td>\n",
              "      <td>30.6</td>\n",
              "      <td>0.2</td>\n",
              "      <td>6.82</td>\n",
              "      <td>3.6</td>\n",
              "      <td>4</td>\n",
              "    </tr>\n",
              "    <tr>\n",
              "      <th>4</th>\n",
              "      <td>23.5689</td>\n",
              "      <td>89.8536</td>\n",
              "      <td>Mulugu</td>\n",
              "      <td>45.7</td>\n",
              "      <td>561</td>\n",
              "      <td>88.4</td>\n",
              "      <td>13.5</td>\n",
              "      <td>0.2</td>\n",
              "      <td>5.0</td>\n",
              "      <td>40.0</td>\n",
              "      <td>4.7</td>\n",
              "      <td>6.82</td>\n",
              "      <td>0.5</td>\n",
              "      <td>4</td>\n",
              "    </tr>\n",
              "  </tbody>\n",
              "</table>\n",
              "</div>"
            ],
            "text/plain": [
              "   LAT-DEG  LONG-DEG        UNION  Depth  HCO3  ...    Mg  No3    PH   So4  Asll\n",
              "0  23.6147   89.8553     Bayyaram   24.4   471  ...  27.8  0.2  6.84  13.5     7\n",
              "1  23.6075   89.8633        Garla   27.4   580  ...  29.6  0.2  7.17   0.2   990\n",
              "2  23.6031   89.8272  Mahabubabad   36.6   529  ...  32.5  0.2  7.00   8.2    27\n",
              "3  23.6064   89.8444       Parkal   18.9   568  ...  30.6  0.2  6.82   3.6     4\n",
              "4  23.5689   89.8536       Mulugu   45.7   561  ...  40.0  4.7  6.82   0.5     4\n",
              "\n",
              "[5 rows x 14 columns]"
            ]
          },
          "metadata": {},
          "execution_count": 23
        }
      ]
    },
    {
      "cell_type": "code",
      "metadata": {
        "colab": {
          "base_uri": "https://localhost:8080/"
        },
        "id": "twolEPceA_F3",
        "outputId": "74e41dad-e6d0-47d2-918c-2ae0f738244c"
      },
      "source": [
        "data.shape"
      ],
      "execution_count": 24,
      "outputs": [
        {
          "output_type": "execute_result",
          "data": {
            "text/plain": [
              "(8, 14)"
            ]
          },
          "metadata": {},
          "execution_count": 24
        }
      ]
    },
    {
      "cell_type": "code",
      "metadata": {
        "colab": {
          "base_uri": "https://localhost:8080/",
          "height": 112
        },
        "id": "KMmhDx-bCXIc",
        "outputId": "09b3eee0-fa47-4ec5-fff2-e14dea87a5e4"
      },
      "source": [
        "how_many=data[(data['Asll']>50)]\n",
        "how_many"
      ],
      "execution_count": 25,
      "outputs": [
        {
          "output_type": "execute_result",
          "data": {
            "text/html": [
              "<div>\n",
              "<style scoped>\n",
              "    .dataframe tbody tr th:only-of-type {\n",
              "        vertical-align: middle;\n",
              "    }\n",
              "\n",
              "    .dataframe tbody tr th {\n",
              "        vertical-align: top;\n",
              "    }\n",
              "\n",
              "    .dataframe thead th {\n",
              "        text-align: right;\n",
              "    }\n",
              "</style>\n",
              "<table border=\"1\" class=\"dataframe\">\n",
              "  <thead>\n",
              "    <tr style=\"text-align: right;\">\n",
              "      <th></th>\n",
              "      <th>LAT-DEG</th>\n",
              "      <th>LONG-DEG</th>\n",
              "      <th>UNION</th>\n",
              "      <th>Depth</th>\n",
              "      <th>HCO3</th>\n",
              "      <th>Ca</th>\n",
              "      <th>CL</th>\n",
              "      <th>F</th>\n",
              "      <th>K</th>\n",
              "      <th>Mg</th>\n",
              "      <th>No3</th>\n",
              "      <th>PH</th>\n",
              "      <th>So4</th>\n",
              "      <th>Asll</th>\n",
              "    </tr>\n",
              "  </thead>\n",
              "  <tbody>\n",
              "    <tr>\n",
              "      <th>1</th>\n",
              "      <td>23.6075</td>\n",
              "      <td>89.8633</td>\n",
              "      <td>Garla</td>\n",
              "      <td>27.4</td>\n",
              "      <td>580</td>\n",
              "      <td>142.0</td>\n",
              "      <td>9.3</td>\n",
              "      <td>0.4</td>\n",
              "      <td>3.9</td>\n",
              "      <td>29.6</td>\n",
              "      <td>0.2</td>\n",
              "      <td>7.17</td>\n",
              "      <td>0.2</td>\n",
              "      <td>990</td>\n",
              "    </tr>\n",
              "    <tr>\n",
              "      <th>5</th>\n",
              "      <td>23.5225</td>\n",
              "      <td>89.8535</td>\n",
              "      <td>Nekkonda</td>\n",
              "      <td>46.5</td>\n",
              "      <td>562</td>\n",
              "      <td>120.0</td>\n",
              "      <td>12.1</td>\n",
              "      <td>0.3</td>\n",
              "      <td>3.5</td>\n",
              "      <td>25.9</td>\n",
              "      <td>2.5</td>\n",
              "      <td>5.85</td>\n",
              "      <td>0.4</td>\n",
              "      <td>550</td>\n",
              "    </tr>\n",
              "  </tbody>\n",
              "</table>\n",
              "</div>"
            ],
            "text/plain": [
              "   LAT-DEG  LONG-DEG     UNION  Depth  HCO3  ...    Mg  No3    PH  So4  Asll\n",
              "1  23.6075   89.8633     Garla   27.4   580  ...  29.6  0.2  7.17  0.2   990\n",
              "5  23.5225   89.8535  Nekkonda   46.5   562  ...  25.9  2.5  5.85  0.4   550\n",
              "\n",
              "[2 rows x 14 columns]"
            ]
          },
          "metadata": {},
          "execution_count": 25
        }
      ]
    },
    {
      "cell_type": "code",
      "metadata": {
        "colab": {
          "base_uri": "https://localhost:8080/"
        },
        "id": "0HSJeY5GERrT",
        "outputId": "87dc0f51-4d1a-4578-ea26-992d2bab28f7"
      },
      "source": [
        "len(how_many)"
      ],
      "execution_count": 26,
      "outputs": [
        {
          "output_type": "execute_result",
          "data": {
            "text/plain": [
              "2"
            ]
          },
          "metadata": {},
          "execution_count": 26
        }
      ]
    },
    {
      "cell_type": "code",
      "metadata": {
        "colab": {
          "base_uri": "https://localhost:8080/",
          "height": 331
        },
        "id": "azg0VpCWEeXh",
        "outputId": "1c1c8053-5b5b-43fb-865c-dbf0caae1f91"
      },
      "source": [
        "data.groupby(['UNION']).count()['HCO3'].to_frame()"
      ],
      "execution_count": 27,
      "outputs": [
        {
          "output_type": "execute_result",
          "data": {
            "text/html": [
              "<div>\n",
              "<style scoped>\n",
              "    .dataframe tbody tr th:only-of-type {\n",
              "        vertical-align: middle;\n",
              "    }\n",
              "\n",
              "    .dataframe tbody tr th {\n",
              "        vertical-align: top;\n",
              "    }\n",
              "\n",
              "    .dataframe thead th {\n",
              "        text-align: right;\n",
              "    }\n",
              "</style>\n",
              "<table border=\"1\" class=\"dataframe\">\n",
              "  <thead>\n",
              "    <tr style=\"text-align: right;\">\n",
              "      <th></th>\n",
              "      <th>HCO3</th>\n",
              "    </tr>\n",
              "    <tr>\n",
              "      <th>UNION</th>\n",
              "      <th></th>\n",
              "    </tr>\n",
              "  </thead>\n",
              "  <tbody>\n",
              "    <tr>\n",
              "      <th>Bayyaram</th>\n",
              "      <td>1</td>\n",
              "    </tr>\n",
              "    <tr>\n",
              "      <th>Garla</th>\n",
              "      <td>1</td>\n",
              "    </tr>\n",
              "    <tr>\n",
              "      <th>Gudur</th>\n",
              "      <td>1</td>\n",
              "    </tr>\n",
              "    <tr>\n",
              "      <th>Kesamudram</th>\n",
              "      <td>1</td>\n",
              "    </tr>\n",
              "    <tr>\n",
              "      <th>Mahabubabad</th>\n",
              "      <td>1</td>\n",
              "    </tr>\n",
              "    <tr>\n",
              "      <th>Mulugu</th>\n",
              "      <td>1</td>\n",
              "    </tr>\n",
              "    <tr>\n",
              "      <th>Nekkonda</th>\n",
              "      <td>1</td>\n",
              "    </tr>\n",
              "    <tr>\n",
              "      <th>Parkal</th>\n",
              "      <td>1</td>\n",
              "    </tr>\n",
              "  </tbody>\n",
              "</table>\n",
              "</div>"
            ],
            "text/plain": [
              "             HCO3\n",
              "UNION            \n",
              "Bayyaram        1\n",
              "Garla           1\n",
              "Gudur           1\n",
              "Kesamudram      1\n",
              "Mahabubabad     1\n",
              "Mulugu          1\n",
              "Nekkonda        1\n",
              "Parkal          1"
            ]
          },
          "metadata": {},
          "execution_count": 27
        }
      ]
    },
    {
      "cell_type": "code",
      "metadata": {
        "colab": {
          "base_uri": "https://localhost:8080/",
          "height": 297
        },
        "id": "aWjN6iK1FUff",
        "outputId": "adaf7597-558b-4fc1-efd4-461e08ac77ca"
      },
      "source": [
        "data.groupby(['UNION']).count()['HCO3'].plot()"
      ],
      "execution_count": 28,
      "outputs": [
        {
          "output_type": "execute_result",
          "data": {
            "text/plain": [
              "<matplotlib.axes._subplots.AxesSubplot at 0x7f4621d14b90>"
            ]
          },
          "metadata": {},
          "execution_count": 28
        },
        {
          "output_type": "display_data",
          "data": {
            "image/png": "[encoded data removed]",
            "text/plain": [
              "<Figure size 432x288 with 1 Axes>"
            ]
          },
          "metadata": {
            "needs_background": "light"
          }
        }
      ]
    },
    {
      "cell_type": "code",
      "metadata": {
        "colab": {
          "base_uri": "https://localhost:8080/",
          "height": 521
        },
        "id": "NmdS9xywGV_t",
        "outputId": "6793a551-2480-43c0-cc9c-00b042934751"
      },
      "source": [
        " data.groupby(['UNION']).count()['HCO3'].plot(kind='bar',figsize=(10,7))"
      ],
      "execution_count": 29,
      "outputs": [
        {
          "output_type": "execute_result",
          "data": {
            "text/plain": [
              "<matplotlib.axes._subplots.AxesSubplot at 0x7f4621c8a850>"
            ]
          },
          "metadata": {},
          "execution_count": 29
        },
        {
          "output_type": "display_data",
          "data": {
            "image/png": "[encoded data removed]",
            "text/plain": [
              "<Figure size 720x504 with 1 Axes>"
            ]
          },
          "metadata": {
            "needs_background": "light"
          }
        }
      ]
    },
    {
      "cell_type": "code",
      "metadata": {
        "colab": {
          "base_uri": "https://localhost:8080/"
        },
        "id": "qkRk_YoTHU3J",
        "outputId": "24304271-0298-4f2c-ecef-32d697b9c16f"
      },
      "source": [
        "data.HCO3"
      ],
      "execution_count": 30,
      "outputs": [
        {
          "output_type": "execute_result",
          "data": {
            "text/plain": [
              "0    471\n",
              "1    580\n",
              "2    529\n",
              "3    568\n",
              "4    561\n",
              "5    562\n",
              "6    595\n",
              "7    605\n",
              "Name: HCO3, dtype: int64"
            ]
          },
          "metadata": {},
          "execution_count": 30
        }
      ]
    },
    {
      "cell_type": "code",
      "metadata": {
        "colab": {
          "base_uri": "https://localhost:8080/"
        },
        "id": "c5Rp172VJORi",
        "outputId": "f04f0e5c-5881-4ef1-8f9b-bfde7133ef21"
      },
      "source": [
        "data.Ca"
      ],
      "execution_count": 31,
      "outputs": [
        {
          "output_type": "execute_result",
          "data": {
            "text/plain": [
              "0    127.0\n",
              "1    142.0\n",
              "2    116.0\n",
              "3    116.0\n",
              "4     88.4\n",
              "5    120.0\n",
              "6    140.0\n",
              "7    150.0\n",
              "Name: Ca, dtype: float64"
            ]
          },
          "metadata": {},
          "execution_count": 31
        }
      ]
    },
    {
      "cell_type": "code",
      "metadata": {
        "id": "DDxhgXJ4JyPF"
      },
      "source": [
        "z=data.iloc[:13:]\n",
        "z\n",
        "c=z.sum(axis=1)"
      ],
      "execution_count": 32,
      "outputs": []
    },
    {
      "cell_type": "code",
      "metadata": {
        "colab": {
          "base_uri": "https://localhost:8080/",
          "height": 404
        },
        "id": "NlMu8QfaKgpB",
        "outputId": "e5738166-7a42-4436-b860-52adbb7cfde8"
      },
      "source": [
        "z['final index']=c\n",
        "z"
      ],
      "execution_count": 33,
      "outputs": [
        {
          "output_type": "stream",
          "name": "stderr",
          "text": [
            "/usr/local/lib/python3.7/dist-packages/ipykernel_launcher.py:1: SettingWithCopyWarning: \n",
            "A value is trying to be set on a copy of a slice from a DataFrame.\n",
            "Try using .loc[row_indexer,col_indexer] = value instead\n",
            "\n",
            "See the caveats in the documentation: https://pandas.pydata.org/pandas-docs/stable/user_guide/indexing.html#returning-a-view-versus-a-copy\n",
            "  \"\"\"Entry point for launching an IPython kernel.\n"
          ]
        },
        {
          "output_type": "execute_result",
          "data": {
            "text/html": [
              "<div>\n",
              "<style scoped>\n",
              "    .dataframe tbody tr th:only-of-type {\n",
              "        vertical-align: middle;\n",
              "    }\n",
              "\n",
              "    .dataframe tbody tr th {\n",
              "        vertical-align: top;\n",
              "    }\n",
              "\n",
              "    .dataframe thead th {\n",
              "        text-align: right;\n",
              "    }\n",
              "</style>\n",
              "<table border=\"1\" class=\"dataframe\">\n",
              "  <thead>\n",
              "    <tr style=\"text-align: right;\">\n",
              "      <th></th>\n",
              "      <th>LAT-DEG</th>\n",
              "      <th>LONG-DEG</th>\n",
              "      <th>UNION</th>\n",
              "      <th>Depth</th>\n",
              "      <th>HCO3</th>\n",
              "      <th>Ca</th>\n",
              "      <th>CL</th>\n",
              "      <th>F</th>\n",
              "      <th>K</th>\n",
              "      <th>Mg</th>\n",
              "      <th>No3</th>\n",
              "      <th>PH</th>\n",
              "      <th>So4</th>\n",
              "      <th>Asll</th>\n",
              "      <th>final index</th>\n",
              "    </tr>\n",
              "  </thead>\n",
              "  <tbody>\n",
              "    <tr>\n",
              "      <th>0</th>\n",
              "      <td>23.6147</td>\n",
              "      <td>89.8553</td>\n",
              "      <td>Bayyaram</td>\n",
              "      <td>24.4</td>\n",
              "      <td>471</td>\n",
              "      <td>127.0</td>\n",
              "      <td>27.6</td>\n",
              "      <td>0.2</td>\n",
              "      <td>4.5</td>\n",
              "      <td>27.8</td>\n",
              "      <td>0.2</td>\n",
              "      <td>6.84</td>\n",
              "      <td>13.5</td>\n",
              "      <td>7</td>\n",
              "      <td>823.5100</td>\n",
              "    </tr>\n",
              "    <tr>\n",
              "      <th>1</th>\n",
              "      <td>23.6075</td>\n",
              "      <td>89.8633</td>\n",
              "      <td>Garla</td>\n",
              "      <td>27.4</td>\n",
              "      <td>580</td>\n",
              "      <td>142.0</td>\n",
              "      <td>9.3</td>\n",
              "      <td>0.4</td>\n",
              "      <td>3.9</td>\n",
              "      <td>29.6</td>\n",
              "      <td>0.2</td>\n",
              "      <td>7.17</td>\n",
              "      <td>0.2</td>\n",
              "      <td>990</td>\n",
              "      <td>1903.6408</td>\n",
              "    </tr>\n",
              "    <tr>\n",
              "      <th>2</th>\n",
              "      <td>23.6031</td>\n",
              "      <td>89.8272</td>\n",
              "      <td>Mahabubabad</td>\n",
              "      <td>36.6</td>\n",
              "      <td>529</td>\n",
              "      <td>116.0</td>\n",
              "      <td>33.9</td>\n",
              "      <td>0.2</td>\n",
              "      <td>3.9</td>\n",
              "      <td>32.5</td>\n",
              "      <td>0.2</td>\n",
              "      <td>7.00</td>\n",
              "      <td>8.2</td>\n",
              "      <td>27</td>\n",
              "      <td>907.9303</td>\n",
              "    </tr>\n",
              "    <tr>\n",
              "      <th>3</th>\n",
              "      <td>23.6064</td>\n",
              "      <td>89.8444</td>\n",
              "      <td>Parkal</td>\n",
              "      <td>18.9</td>\n",
              "      <td>568</td>\n",
              "      <td>116.0</td>\n",
              "      <td>16.5</td>\n",
              "      <td>0.1</td>\n",
              "      <td>6.2</td>\n",
              "      <td>30.6</td>\n",
              "      <td>0.2</td>\n",
              "      <td>6.82</td>\n",
              "      <td>3.6</td>\n",
              "      <td>4</td>\n",
              "      <td>884.3708</td>\n",
              "    </tr>\n",
              "    <tr>\n",
              "      <th>4</th>\n",
              "      <td>23.5689</td>\n",
              "      <td>89.8536</td>\n",
              "      <td>Mulugu</td>\n",
              "      <td>45.7</td>\n",
              "      <td>561</td>\n",
              "      <td>88.4</td>\n",
              "      <td>13.5</td>\n",
              "      <td>0.2</td>\n",
              "      <td>5.0</td>\n",
              "      <td>40.0</td>\n",
              "      <td>4.7</td>\n",
              "      <td>6.82</td>\n",
              "      <td>0.5</td>\n",
              "      <td>4</td>\n",
              "      <td>883.2425</td>\n",
              "    </tr>\n",
              "    <tr>\n",
              "      <th>5</th>\n",
              "      <td>23.5225</td>\n",
              "      <td>89.8535</td>\n",
              "      <td>Nekkonda</td>\n",
              "      <td>46.5</td>\n",
              "      <td>562</td>\n",
              "      <td>120.0</td>\n",
              "      <td>12.1</td>\n",
              "      <td>0.3</td>\n",
              "      <td>3.5</td>\n",
              "      <td>25.9</td>\n",
              "      <td>2.5</td>\n",
              "      <td>5.85</td>\n",
              "      <td>0.4</td>\n",
              "      <td>550</td>\n",
              "      <td>1442.4260</td>\n",
              "    </tr>\n",
              "    <tr>\n",
              "      <th>6</th>\n",
              "      <td>24.6142</td>\n",
              "      <td>89.8543</td>\n",
              "      <td>Kesamudram</td>\n",
              "      <td>47.5</td>\n",
              "      <td>595</td>\n",
              "      <td>140.0</td>\n",
              "      <td>11.5</td>\n",
              "      <td>0.4</td>\n",
              "      <td>2.5</td>\n",
              "      <td>35.9</td>\n",
              "      <td>2.7</td>\n",
              "      <td>7.00</td>\n",
              "      <td>12.9</td>\n",
              "      <td>50</td>\n",
              "      <td>1019.8685</td>\n",
              "    </tr>\n",
              "    <tr>\n",
              "      <th>7</th>\n",
              "      <td>25.6314</td>\n",
              "      <td>89.8602</td>\n",
              "      <td>Gudur</td>\n",
              "      <td>48.8</td>\n",
              "      <td>605</td>\n",
              "      <td>150.0</td>\n",
              "      <td>10.8</td>\n",
              "      <td>0.1</td>\n",
              "      <td>1.2</td>\n",
              "      <td>36.5</td>\n",
              "      <td>3.5</td>\n",
              "      <td>6.90</td>\n",
              "      <td>11.5</td>\n",
              "      <td>5</td>\n",
              "      <td>994.7916</td>\n",
              "    </tr>\n",
              "  </tbody>\n",
              "</table>\n",
              "</div>"
            ],
            "text/plain": [
              "   LAT-DEG  LONG-DEG        UNION  Depth  ...    PH   So4  Asll  final index\n",
              "0  23.6147   89.8553     Bayyaram   24.4  ...  6.84  13.5     7     823.5100\n",
              "1  23.6075   89.8633        Garla   27.4  ...  7.17   0.2   990    1903.6408\n",
              "2  23.6031   89.8272  Mahabubabad   36.6  ...  7.00   8.2    27     907.9303\n",
              "3  23.6064   89.8444       Parkal   18.9  ...  6.82   3.6     4     884.3708\n",
              "4  23.5689   89.8536       Mulugu   45.7  ...  6.82   0.5     4     883.2425\n",
              "5  23.5225   89.8535     Nekkonda   46.5  ...  5.85   0.4   550    1442.4260\n",
              "6  24.6142   89.8543   Kesamudram   47.5  ...  7.00  12.9    50    1019.8685\n",
              "7  25.6314   89.8602        Gudur   48.8  ...  6.90  11.5     5     994.7916\n",
              "\n",
              "[8 rows x 15 columns]"
            ]
          },
          "metadata": {},
          "execution_count": 33
        }
      ]
    },
    {
      "cell_type": "code",
      "metadata": {
        "id": "ou2-bjhSK5NP",
        "colab": {
          "base_uri": "https://localhost:8080/"
        },
        "outputId": "e6aca9ff-a068-4d6c-f7a8-00dcdbfba4a1"
      },
      "source": [
        " z['final index']=c\n",
        "z.to_csv('Untitled spreadsheet(csv).xlsx')"
      ],
      "execution_count": 34,
      "outputs": [
        {
          "output_type": "stream",
          "name": "stderr",
          "text": [
            "/usr/local/lib/python3.7/dist-packages/ipykernel_launcher.py:1: SettingWithCopyWarning: \n",
            "A value is trying to be set on a copy of a slice from a DataFrame.\n",
            "Try using .loc[row_indexer,col_indexer] = value instead\n",
            "\n",
            "See the caveats in the documentation: https://pandas.pydata.org/pandas-docs/stable/user_guide/indexing.html#returning-a-view-versus-a-copy\n",
            "  \"\"\"Entry point for launching an IPython kernel.\n"
          ]
        }
      ]
    },
    {
      "cell_type": "code",
      "metadata": {
        "colab": {
          "base_uri": "https://localhost:8080/",
          "height": 297
        },
        "id": "ot_bGje9Md3m",
        "outputId": "0583ab1d-2b3e-4c45-ec95-633a1e7fa5db"
      },
      "source": [
        "data.groupby(['UNION']).count()['PH'].plot()"
      ],
      "execution_count": 35,
      "outputs": [
        {
          "output_type": "execute_result",
          "data": {
            "text/plain": [
              "<matplotlib.axes._subplots.AxesSubplot at 0x7f4621b9f050>"
            ]
          },
          "metadata": {},
          "execution_count": 35
        },
        {
          "output_type": "display_data",
          "data": {
            "image/png": "[encoded data removed]",
            "text/plain": [
              "<Figure size 432x288 with 1 Axes>"
            ]
          },
          "metadata": {
            "needs_background": "light"
          }
        }
      ]
    },
    {
      "cell_type": "code",
      "metadata": {
        "colab": {
          "base_uri": "https://localhost:8080/",
          "height": 521
        },
        "id": "EmSdHyMJNPZI",
        "outputId": "98a7380a-5f05-4b59-ffd8-b830647dc32a"
      },
      "source": [
        " data.groupby(['UNION']).count()['PH'].plot(kind='bar',figsize=(10,7))"
      ],
      "execution_count": 36,
      "outputs": [
        {
          "output_type": "execute_result",
          "data": {
            "text/plain": [
              "<matplotlib.axes._subplots.AxesSubplot at 0x7f4621b9ff10>"
            ]
          },
          "metadata": {},
          "execution_count": 36
        },
        {
          "output_type": "display_data",
          "data": {
            "image/png": "[encoded data removed]",
            "text/plain": [
              "<Figure size 720x504 with 1 Axes>"
            ]
          },
          "metadata": {
            "needs_background": "light"
          }
        }
      ]
    }
  ]
}